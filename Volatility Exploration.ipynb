{
 "cells": [
  {
   "cell_type": "markdown",
   "metadata": {},
   "source": [
    "select domain, to_date(timestamp_utc) as date, \n",
    "stddev(active_page_dwell) / nullif(avg(active_page_dwell),0) as apd,\n",
    "stddev(time_until_scroll) / nullif(avg(time_until_scroll),0) as tus,\n",
    "stddev(time_until_inview) / nullif(avg(time_until_inview),0) as tui,\n",
    "stddev(time_until_hover) / nullif(avg(time_until_hover),0) as tuh,\n",
    "stddev(total_exposure_time) / nullif(avg(total_exposure_time),0) as tet,\n",
    "size, format, execution\n",
    "from arion.prod.fact_moat_viewability\n",
    "where time_id_utc >= 2017010100 and time_id_utc < 2017090100\n",
    "and domain in ('cnn.com', 'littlethings.com', 'metrolyrics.com')\n",
    "group by domain, date, size, format, execution\n",
    "order by date asc;"
   ]
  },
  {
   "cell_type": "code",
   "execution_count": 1,
   "metadata": {
    "collapsed": true
   },
   "outputs": [],
   "source": [
    "import pandas as pd\n",
    "import matplotlib.pyplot as plt\n",
    "import numpy as np\n",
    "%matplotlib inline"
   ]
  },
  {
   "cell_type": "code",
   "execution_count": 6,
   "metadata": {
    "collapsed": false
   },
   "outputs": [
    {
     "data": {
      "text/html": [
       "<div>\n",
       "<table border=\"1\" class=\"dataframe\">\n",
       "  <thead>\n",
       "    <tr style=\"text-align: right;\">\n",
       "      <th></th>\n",
       "      <th>DOMAIN</th>\n",
       "      <th>DATE</th>\n",
       "      <th>APD</th>\n",
       "      <th>TUS</th>\n",
       "      <th>TUI</th>\n",
       "      <th>TUH</th>\n",
       "      <th>TET</th>\n",
       "      <th>SIZE</th>\n",
       "      <th>FORMAT</th>\n",
       "      <th>EXECUTION</th>\n",
       "    </tr>\n",
       "  </thead>\n",
       "  <tbody>\n",
       "    <tr>\n",
       "      <th>0</th>\n",
       "      <td>littlethings.com</td>\n",
       "      <td>2017-01-01</td>\n",
       "      <td>3.197404</td>\n",
       "      <td>1.853421</td>\n",
       "      <td>1.421871</td>\n",
       "      <td>14.789789</td>\n",
       "      <td>2.176249</td>\n",
       "      <td>1x1</td>\n",
       "      <td>Anchor</td>\n",
       "      <td>animated</td>\n",
       "    </tr>\n",
       "    <tr>\n",
       "      <th>2</th>\n",
       "      <td>metrolyrics.com</td>\n",
       "      <td>2017-01-01</td>\n",
       "      <td>1.416323</td>\n",
       "      <td>1.589738</td>\n",
       "      <td>0.211073</td>\n",
       "      <td>1.736609</td>\n",
       "      <td>0.300403</td>\n",
       "      <td>1x1</td>\n",
       "      <td>FullScreenInterstitial</td>\n",
       "      <td>nbdb</td>\n",
       "    </tr>\n",
       "    <tr>\n",
       "      <th>4</th>\n",
       "      <td>littlethings.com</td>\n",
       "      <td>2017-01-01</td>\n",
       "      <td>3.108369</td>\n",
       "      <td>5.154001</td>\n",
       "      <td>0.537099</td>\n",
       "      <td>5.739678</td>\n",
       "      <td>1.176092</td>\n",
       "      <td>300x250</td>\n",
       "      <td>Interstitial</td>\n",
       "      <td>social_hijack</td>\n",
       "    </tr>\n",
       "    <tr>\n",
       "      <th>6</th>\n",
       "      <td>littlethings.com</td>\n",
       "      <td>2017-01-01</td>\n",
       "      <td>3.128900</td>\n",
       "      <td>4.009569</td>\n",
       "      <td>2.056836</td>\n",
       "      <td>64.736890</td>\n",
       "      <td>3.563306</td>\n",
       "      <td>320x50</td>\n",
       "      <td>Hover</td>\n",
       "      <td>animated</td>\n",
       "    </tr>\n",
       "    <tr>\n",
       "      <th>9</th>\n",
       "      <td>cnn.com</td>\n",
       "      <td>2017-01-01</td>\n",
       "      <td>1.409178</td>\n",
       "      <td>0.000000</td>\n",
       "      <td>1.415896</td>\n",
       "      <td>-0.000000</td>\n",
       "      <td>1.414214</td>\n",
       "      <td>1x1</td>\n",
       "      <td>Interstitial</td>\n",
       "      <td>kstream</td>\n",
       "    </tr>\n",
       "    <tr>\n",
       "      <th>10</th>\n",
       "      <td>cnn.com</td>\n",
       "      <td>2017-01-01</td>\n",
       "      <td>2.394266</td>\n",
       "      <td>4.221593</td>\n",
       "      <td>1.469125</td>\n",
       "      <td>63.533581</td>\n",
       "      <td>2.667603</td>\n",
       "      <td>320x50</td>\n",
       "      <td>Hover</td>\n",
       "      <td>animated</td>\n",
       "    </tr>\n",
       "    <tr>\n",
       "      <th>12</th>\n",
       "      <td>cnn.com</td>\n",
       "      <td>2017-01-01</td>\n",
       "      <td>2.557412</td>\n",
       "      <td>4.060202</td>\n",
       "      <td>0.764467</td>\n",
       "      <td>-0.000000</td>\n",
       "      <td>2.795386</td>\n",
       "      <td>1x1</td>\n",
       "      <td>Hover</td>\n",
       "      <td>scroll_reactive</td>\n",
       "    </tr>\n",
       "    <tr>\n",
       "      <th>13</th>\n",
       "      <td>littlethings.com</td>\n",
       "      <td>2017-01-01</td>\n",
       "      <td>3.510589</td>\n",
       "      <td>4.866308</td>\n",
       "      <td>2.250679</td>\n",
       "      <td>18.078883</td>\n",
       "      <td>4.460867</td>\n",
       "      <td>320x50</td>\n",
       "      <td>Hover</td>\n",
       "      <td>shake</td>\n",
       "    </tr>\n",
       "    <tr>\n",
       "      <th>14</th>\n",
       "      <td>cnn.com</td>\n",
       "      <td>2017-01-01</td>\n",
       "      <td>2.395800</td>\n",
       "      <td>2.975680</td>\n",
       "      <td>0.945117</td>\n",
       "      <td>13.377536</td>\n",
       "      <td>2.634868</td>\n",
       "      <td>320x50</td>\n",
       "      <td>Hover</td>\n",
       "      <td>glider</td>\n",
       "    </tr>\n",
       "    <tr>\n",
       "      <th>16</th>\n",
       "      <td>littlethings.com</td>\n",
       "      <td>2017-01-01</td>\n",
       "      <td>1.187466</td>\n",
       "      <td>0.859527</td>\n",
       "      <td>1.204555</td>\n",
       "      <td>-0.000000</td>\n",
       "      <td>1.124845</td>\n",
       "      <td>1x1</td>\n",
       "      <td>Interstitial</td>\n",
       "      <td>standard</td>\n",
       "    </tr>\n",
       "  </tbody>\n",
       "</table>\n",
       "</div>"
      ],
      "text/plain": [
       "              DOMAIN        DATE       APD       TUS       TUI        TUH  \\\n",
       "0   littlethings.com  2017-01-01  3.197404  1.853421  1.421871  14.789789   \n",
       "2    metrolyrics.com  2017-01-01  1.416323  1.589738  0.211073   1.736609   \n",
       "4   littlethings.com  2017-01-01  3.108369  5.154001  0.537099   5.739678   \n",
       "6   littlethings.com  2017-01-01  3.128900  4.009569  2.056836  64.736890   \n",
       "9            cnn.com  2017-01-01  1.409178  0.000000  1.415896  -0.000000   \n",
       "10           cnn.com  2017-01-01  2.394266  4.221593  1.469125  63.533581   \n",
       "12           cnn.com  2017-01-01  2.557412  4.060202  0.764467  -0.000000   \n",
       "13  littlethings.com  2017-01-01  3.510589  4.866308  2.250679  18.078883   \n",
       "14           cnn.com  2017-01-01  2.395800  2.975680  0.945117  13.377536   \n",
       "16  littlethings.com  2017-01-01  1.187466  0.859527  1.204555  -0.000000   \n",
       "\n",
       "         TET     SIZE                  FORMAT        EXECUTION  \n",
       "0   2.176249      1x1                  Anchor         animated  \n",
       "2   0.300403      1x1  FullScreenInterstitial             nbdb  \n",
       "4   1.176092  300x250            Interstitial    social_hijack  \n",
       "6   3.563306   320x50                   Hover         animated  \n",
       "9   1.414214      1x1            Interstitial          kstream  \n",
       "10  2.667603   320x50                   Hover         animated  \n",
       "12  2.795386      1x1                   Hover  scroll_reactive  \n",
       "13  4.460867   320x50                   Hover            shake  \n",
       "14  2.634868   320x50                   Hover           glider  \n",
       "16  1.124845      1x1            Interstitial         standard  "
      ]
     },
     "execution_count": 6,
     "metadata": {},
     "output_type": "execute_result"
    }
   ],
   "source": [
    "df = pd.read_csv('D:\\\\Kargo\\\\Risk Analysis\\\\ytd_cv_trio.csv')\n",
    "df.dropna()[:10]"
   ]
  },
  {
   "cell_type": "code",
   "execution_count": 7,
   "metadata": {
    "collapsed": false
   },
   "outputs": [
    {
     "data": {
      "text/html": [
       "<div>\n",
       "<table border=\"1\" class=\"dataframe\">\n",
       "  <thead>\n",
       "    <tr style=\"text-align: right;\">\n",
       "      <th></th>\n",
       "      <th>APD</th>\n",
       "      <th>TUS</th>\n",
       "      <th>TUI</th>\n",
       "      <th>TUH</th>\n",
       "      <th>TET</th>\n",
       "    </tr>\n",
       "    <tr>\n",
       "      <th>MONTH</th>\n",
       "      <th></th>\n",
       "      <th></th>\n",
       "      <th></th>\n",
       "      <th></th>\n",
       "      <th></th>\n",
       "    </tr>\n",
       "  </thead>\n",
       "  <tbody>\n",
       "    <tr>\n",
       "      <th>01</th>\n",
       "      <td>2.756049</td>\n",
       "      <td>3.190073</td>\n",
       "      <td>1.878186</td>\n",
       "      <td>11.557911</td>\n",
       "      <td>3.164701</td>\n",
       "    </tr>\n",
       "    <tr>\n",
       "      <th>02</th>\n",
       "      <td>3.137225</td>\n",
       "      <td>3.614678</td>\n",
       "      <td>2.227331</td>\n",
       "      <td>18.907524</td>\n",
       "      <td>4.198293</td>\n",
       "    </tr>\n",
       "    <tr>\n",
       "      <th>03</th>\n",
       "      <td>3.031528</td>\n",
       "      <td>3.828041</td>\n",
       "      <td>2.371902</td>\n",
       "      <td>16.702663</td>\n",
       "      <td>3.774245</td>\n",
       "    </tr>\n",
       "    <tr>\n",
       "      <th>04</th>\n",
       "      <td>2.731169</td>\n",
       "      <td>3.295859</td>\n",
       "      <td>2.380026</td>\n",
       "      <td>-4.000093</td>\n",
       "      <td>3.316675</td>\n",
       "    </tr>\n",
       "    <tr>\n",
       "      <th>05</th>\n",
       "      <td>2.652228</td>\n",
       "      <td>3.708107</td>\n",
       "      <td>2.442282</td>\n",
       "      <td>17.018330</td>\n",
       "      <td>3.498416</td>\n",
       "    </tr>\n",
       "    <tr>\n",
       "      <th>06</th>\n",
       "      <td>2.653255</td>\n",
       "      <td>3.998583</td>\n",
       "      <td>2.626541</td>\n",
       "      <td>14.010025</td>\n",
       "      <td>3.775452</td>\n",
       "    </tr>\n",
       "    <tr>\n",
       "      <th>07</th>\n",
       "      <td>2.552322</td>\n",
       "      <td>4.160679</td>\n",
       "      <td>2.733475</td>\n",
       "      <td>13.718526</td>\n",
       "      <td>3.792176</td>\n",
       "    </tr>\n",
       "    <tr>\n",
       "      <th>08</th>\n",
       "      <td>2.434955</td>\n",
       "      <td>3.827367</td>\n",
       "      <td>2.348249</td>\n",
       "      <td>12.181627</td>\n",
       "      <td>3.420653</td>\n",
       "    </tr>\n",
       "  </tbody>\n",
       "</table>\n",
       "</div>"
      ],
      "text/plain": [
       "            APD       TUS       TUI        TUH       TET\n",
       "MONTH                                                   \n",
       "01     2.756049  3.190073  1.878186  11.557911  3.164701\n",
       "02     3.137225  3.614678  2.227331  18.907524  4.198293\n",
       "03     3.031528  3.828041  2.371902  16.702663  3.774245\n",
       "04     2.731169  3.295859  2.380026  -4.000093  3.316675\n",
       "05     2.652228  3.708107  2.442282  17.018330  3.498416\n",
       "06     2.653255  3.998583  2.626541  14.010025  3.775452\n",
       "07     2.552322  4.160679  2.733475  13.718526  3.792176\n",
       "08     2.434955  3.827367  2.348249  12.181627  3.420653"
      ]
     },
     "execution_count": 7,
     "metadata": {},
     "output_type": "execute_result"
    }
   ],
   "source": [
    "def getMonth(date):\n",
    "    return str(date).split('-')[1]\n",
    "\n",
    "df['MONTH'] = df['DATE'].apply(lambda x: getMonth(x))\n",
    "df.groupby('MONTH').mean()"
   ]
  },
  {
   "cell_type": "code",
   "execution_count": 27,
   "metadata": {
    "collapsed": false
   },
   "outputs": [
    {
     "data": {
      "text/plain": [
       "<matplotlib.axes._subplots.AxesSubplot at 0x22fe07a3828>"
      ]
     },
     "execution_count": 27,
     "metadata": {},
     "output_type": "execute_result"
    },
    {
     "data": {
      "image/png": "[encoded data removed]",
      "text/plain": [
       "<matplotlib.figure.Figure at 0x22fe07b6668>"
      ]
     },
     "metadata": {},
     "output_type": "display_data"
    }
   ],
   "source": [
    "df.groupby('MONTH')['TET','APD'].mean().plot(grid=True, legend=True)"
   ]
  },
  {
   "cell_type": "markdown",
   "metadata": {},
   "source": [
    "Interesting, the volatility of APD has declined since Q1"
   ]
  },
  {
   "cell_type": "code",
   "execution_count": 25,
   "metadata": {
    "collapsed": false,
    "scrolled": false
   },
   "outputs": [
    {
     "data": {
      "text/plain": [
       "<matplotlib.axes._subplots.AxesSubplot at 0x22fe03bf2b0>"
      ]
     },
     "execution_count": 25,
     "metadata": {},
     "output_type": "execute_result"
    },
    {
     "data": {
      "image/png": "[encoded data removed]",
      "text/plain": [
       "<matplotlib.figure.Figure at 0x22fe03cccc0>"
      ]
     },
     "metadata": {},
     "output_type": "display_data"
    }
   ],
   "source": [
    "df.pivot_table(['APD','TET'],'FORMAT').dropna().sort_values(by='TET',ascending=False).plot(kind=\"bar\")"
   ]
  },
  {
   "cell_type": "code",
   "execution_count": null,
   "metadata": {
    "collapsed": true
   },
   "outputs": [],
   "source": []
  },
  {
   "cell_type": "code",
   "execution_count": null,
   "metadata": {
    "collapsed": true
   },
   "outputs": [],
   "source": []
  },
  {
   "cell_type": "code",
   "execution_count": null,
   "metadata": {
    "collapsed": true
   },
   "outputs": [],
   "source": []
  },
  {
   "cell_type": "code",
   "execution_count": null,
   "metadata": {
    "collapsed": true
   },
   "outputs": [],
   "source": []
  },
  {
   "cell_type": "code",
   "execution_count": null,
   "metadata": {
    "collapsed": true
   },
   "outputs": [],
   "source": []
  }
 ],
 "metadata": {
  "anaconda-cloud": {},
  "kernelspec": {
   "display_name": "Python [conda root]",
   "language": "python",
   "name": "conda-root-py"
  },
  "language_info": {
   "codemirror_mode": {
    "name": "ipython",
    "version": 3
   },
   "file_extension": ".py",
   "mimetype": "text/x-python",
   "name": "python",
   "nbconvert_exporter": "python",
   "pygments_lexer": "ipython3",
   "version": "3.5.2"
  }
 },
 "nbformat": 4,
 "nbformat_minor": 2
}
